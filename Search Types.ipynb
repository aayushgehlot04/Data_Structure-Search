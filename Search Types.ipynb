{
 "cells": [
  {
   "cell_type": "markdown",
   "metadata": {},
   "source": [
    "Linear Search"
   ]
  },
  {
   "cell_type": "markdown",
   "metadata": {},
   "source": [
    "The algorithm consists of iterating over an array and returning the index of the first occurrence of an item once it is found"
   ]
  },
  {
   "cell_type": "code",
   "execution_count": 53,
   "metadata": {},
   "outputs": [],
   "source": [
    "def linear_search(input_list, element):\n",
    "    for i in range(0,len(input_list)):\n",
    "        if element == input_list[i]:\n",
    "            return 'Element {} found at index {}'.format(element,i)\n",
    "            break\n",
    "    return 'Element not found'\n",
    "        "
   ]
  },
  {
   "cell_type": "code",
   "execution_count": 56,
   "metadata": {},
   "outputs": [
    {
     "data": {
      "text/plain": [
       "'Element 6 found at index 5'"
      ]
     },
     "execution_count": 56,
     "metadata": {},
     "output_type": "execute_result"
    }
   ],
   "source": [
    "linear_search([1,2,3,4,5,6], 6)"
   ]
  },
  {
   "cell_type": "markdown",
   "metadata": {},
   "source": [
    "Binary Search"
   ]
  },
  {
   "cell_type": "markdown",
   "metadata": {},
   "source": [
    "Concept: \n",
    "    Given a list L of n elements with values or records L0, L1, …, Ln-1, sorted in ascending order, and given key/target value K, binary search is used to find the index of K in L\n",
    "    \n",
    "    Set a variable start to 0 and another variable end to n-1(size of the list)\n",
    "\n",
    "    if start > end break the algorithm, as it works only on sorted lists calculate mid as (start + end)/2\n",
    "\n",
    "    if the key element is equal to mid, the search is done return position of mid\n",
    "    \n",
    "    greater than mid, set start to mid + 1 and repeat from step 2\n",
    "\n",
    "    less than mid, set end to mid — 1 and repeat from step 2"
   ]
  },
  {
   "cell_type": "code",
   "execution_count": 27,
   "metadata": {},
   "outputs": [],
   "source": [
    "def binary_sort(sorted_list, key):\n",
    "    start = 0\n",
    "    end = len(sorted_list)-1\n",
    "    while start <= end:\n",
    "        mid = int((start + end)/2)\n",
    "        if key == sorted_list[mid]:\n",
    "            return \"Entered number {} is present at position: {}\".format(key, mid)\n",
    "        elif key < sorted_list[mid]:\n",
    "            end = mid - 1\n",
    "        elif key > sorted_list[mid]:\n",
    "            start = mid + 1\n",
    "    return \"Element not found!\""
   ]
  },
  {
   "cell_type": "code",
   "execution_count": 30,
   "metadata": {},
   "outputs": [
    {
     "data": {
      "text/plain": [
       "'Entered number 4 is present at position: 3'"
      ]
     },
     "execution_count": 30,
     "metadata": {},
     "output_type": "execute_result"
    }
   ],
   "source": [
    "binary_sort([1,2,3,4], 4)"
   ]
  },
  {
   "cell_type": "code",
   "execution_count": null,
   "metadata": {},
   "outputs": [],
   "source": []
  }
 ],
 "metadata": {
  "kernelspec": {
   "display_name": "Python 3",
   "language": "python",
   "name": "python3"
  },
  "language_info": {
   "codemirror_mode": {
    "name": "ipython",
    "version": 3
   },
   "file_extension": ".py",
   "mimetype": "text/x-python",
   "name": "python",
   "nbconvert_exporter": "python",
   "pygments_lexer": "ipython3",
   "version": "3.7.3"
  }
 },
 "nbformat": 4,
 "nbformat_minor": 2
}
